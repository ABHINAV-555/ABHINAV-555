{
  "nbformat": 4,
  "nbformat_minor": 0,
  "metadata": {
    "colab": {
      "provenance": [],
      "authorship_tag": "ABX9TyOSTbeKpmLsKRM8HwHIAyu8",
      "include_colab_link": true
    },
    "kernelspec": {
      "name": "python3",
      "display_name": "Python 3"
    },
    "language_info": {
      "name": "python"
    }
  },
  "cells": [
    {
      "cell_type": "markdown",
      "metadata": {
        "id": "view-in-github",
        "colab_type": "text"
      },
      "source": [
        "<a href=\"https://colab.research.google.com/github/ABHINAV-555/ABHINAV-555/blob/main/spss_final_done_ok_.ipynb\" target=\"_parent\"><img src=\"https://colab.research.google.com/assets/colab-badge.svg\" alt=\"Open In Colab\"/></a>"
      ]
    },
    {
      "cell_type": "code",
      "source": [
        "from google.colab import files\n",
        "import pandas as pd\n",
        "\n",
        "# Step 1: Upload Excel file\n",
        "uploaded = files.upload()\n",
        "file_name = list(uploaded.keys())[0]\n",
        "\n",
        "# Step 2: Read the first row (questions)\n",
        "question_texts = pd.read_excel(file_name, header=None, nrows=1).iloc[0].tolist()\n",
        "\n",
        "# Step 3: Read the actual data\n",
        "df = pd.read_excel(file_name, skiprows=1)\n",
        "\n",
        "# Step 4: Show column info\n",
        "print(\"\\n✅ File loaded!\")\n",
        "print(\"\\nAvailable columns:\")\n",
        "for idx, col in enumerate(df.columns):\n",
        "    print(f\"{idx}: {col} — {question_texts[idx]}\")\n",
        "\n",
        "# Step 5: Ask for starting column\n",
        "start_index = int(input(\"\\n👉 Enter the column index number from which to start frequency analysis: \"))\n",
        "if start_index < 0 or start_index >= len(df.columns):\n",
        "    raise ValueError(\"❌ Invalid column index!\")\n",
        "\n",
        "df_selected = df.iloc[:, start_index:]\n",
        "question_texts_selected = question_texts[start_index:]\n",
        "\n",
        "# Step 6: Build output\n",
        "output_rows = []\n",
        "output_rows.append([\"STATEMENT (N = {})\".format(len(df)), \"FREQUENCY\", \"PERCENTAGE\", \"FREQUENCY\", \"PERCENTAGE\"])\n",
        "\n",
        "for idx, col in enumerate(df_selected.columns):\n",
        "    try:\n",
        "        col_data = df[col].dropna()\n",
        "        question_label = str(question_texts_selected[idx]).replace('\\n', ' ').replace('\\r', ' ').replace('\\xa0', ' ').strip()\n",
        "\n",
        "        # ⏳ Skip datetime columns\n",
        "        if pd.api.types.is_datetime64_any_dtype(col_data) or col_data.astype(str).str.match(r\"\\d{4}-\\d{2}-\\d{2}|\\d{2}/\\d{2}/\\d{4}\").any():\n",
        "            print(f\"⏭️ Skipping column '{col}' — detected as date/time.\")\n",
        "            continue\n",
        "\n",
        "        output_rows.append([f\"Question: {question_label}\", \"\", \"\", \"\", \"\"])\n",
        "\n",
        "        if pd.api.types.is_numeric_dtype(col_data):\n",
        "            # 🟦 Numeric summary\n",
        "            mean = round(col_data.mean(), 2)\n",
        "            median = round(col_data.median(), 2)\n",
        "            mode = col_data.mode()\n",
        "            mode_val = mode.iloc[0] if not mode.empty else \"N/A\"\n",
        "\n",
        "            output_rows.append([\"Mean\", mean, \"\", \"\", \"\"])\n",
        "            output_rows.append([\"Median\", median, \"\", \"\", \"\"])\n",
        "            output_rows.append([\"Mode\", mode_val, \"\", \"\", \"\"])\n",
        "            output_rows.append([\"Total (Valid)\", len(col_data), \"\", \"\", \"\"])  # Total valid count\n",
        "            output_rows.append([\"\", \"\", \"\", \"\", \"\"])\n",
        "\n",
        "        else:\n",
        "            # 🟨 Categorical frequency\n",
        "            freq_table = col_data.value_counts(dropna=False).reset_index()\n",
        "            freq_table.columns = ['Category', 'Frequency']\n",
        "            freq_table['Percentage'] = round((freq_table['Frequency'] / len(df)) * 100, 2)\n",
        "\n",
        "            for _, row in freq_table.iterrows():\n",
        "                label = str(row['Category']) if pd.notna(row['Category']) else \"Missing\"\n",
        "                output_rows.append([label, row['Frequency'], row['Percentage'], \"\", \"\"])\n",
        "\n",
        "            # ➕ Add Total row\n",
        "            total_freq = freq_table['Frequency'].sum()\n",
        "            total_pct = freq_table['Percentage'].sum()\n",
        "            output_rows.append([\"Total\", total_freq, total_pct, \"\", \"\"])\n",
        "            output_rows.append([\"\", \"\", \"\", \"\", \"\"])\n",
        "\n",
        "    except Exception as e:\n",
        "        print(f\"⚠️ Skipping column '{col}' due to error: {e}\")\n",
        "\n",
        "# Step 7: Export to Excel\n",
        "output_df = pd.DataFrame(output_rows)\n",
        "output_file = \"final_frequency_and_summary_with_totals.xlsx\"\n",
        "output_df.to_excel(output_file, index=False, header=False)\n",
        "\n",
        "print(f\"\\n✅ Report with totals generated: {output_file}\")\n",
        "files.download(output_file)\n"
      ],
      "metadata": {
        "id": "LK3YxFQwAkpO"
      },
      "execution_count": null,
      "outputs": []
    }
  ]
}