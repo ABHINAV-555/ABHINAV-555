{
  "nbformat": 4,
  "nbformat_minor": 0,
  "metadata": {
    "colab": {
      "provenance": []
    },
    "kernelspec": {
      "name": "python3",
      "display_name": "Python 3"
    },
    "language_info": {
      "name": "python"
    }
  },
  "cells": [
    {
      "cell_type": "code",
      "source": [
        "#Qus_1 AND Qus_2 =HCF AND GCD ,LCM\n",
        "\n",
        "number1=int(input('enter a number'))\n",
        "number2=int(input('enter a number'))\n",
        "if number1>number2:\n",
        "    smallest=number2\n",
        "else:\n",
        "    smallest=number1\n",
        "for i in range(1,smallest+1):\n",
        "    if (number1%i==0) and (number2%i==0):\n",
        "        HCF=i\n",
        "LCM=(number1*number2)/HCF\n",
        "print(f'LCM OF TWO NUMBER IS : {LCM}')\n",
        "print(f'LCM OF TWO NUMBER IS : {HCF}')\n",
        "\n",
        "import math\n",
        "a=10\n",
        "b=12\n",
        "print(math.gcd(a,b))\n",
        "print(math.lcm(a,b))"
      ],
      "metadata": {
        "id": "ebevYHKa48_J"
      },
      "execution_count": null,
      "outputs": []
    },
    {
      "cell_type": "code",
      "source": [
        "#Qus_3 = PALIDROMS STRING\n",
        "string=input('enter a name ')\n",
        "rev_string=\"\"\n",
        "for i in string:\n",
        "    rev_string=i+rev_string\n",
        "if string==rev_string:\n",
        "    print(string+' string is  palendroms')\n",
        "else :\n",
        "    print(string+'string is not palindrom')\n",
        ""
      ],
      "metadata": {
        "id": "k1VIVOQv49Br"
      },
      "execution_count": null,
      "outputs": []
    },
    {
      "cell_type": "code",
      "source": [
        "#Qus_3A = PALIDROMS STRING\n",
        "string=input('enter a name ')\n",
        "if string==string[::-1]:\n",
        "    print(string+\" is palindrome\")\n",
        "else:\n",
        "    print(string+\" is not  palindrome\")"
      ],
      "metadata": {
        "id": "fLifgjzX49Ep"
      },
      "execution_count": null,
      "outputs": []
    },
    {
      "cell_type": "code",
      "source": [
        "#Qus_4 = ANAGRAMS in string\n",
        "string_1=input('enter a string : ')\n",
        "string_2= input('enter a string: ')\n",
        "if len(string_1)!=len(string_2):\n",
        "    print('string is not anagrams')\n",
        "else:\n",
        "    if sorted(string_1)==sorted(string_2):\n",
        "        print('string is anagrams')\n",
        "    else :\n",
        "        print('string is not aragrams ')"
      ],
      "metadata": {
        "id": "zB4LP05H49Hn"
      },
      "execution_count": null,
      "outputs": []
    },
    {
      "cell_type": "code",
      "source": [
        "#Qus_5 = Arm stronge in numerical\n",
        "n=int(input('enter a number 3 digts number :  '))\n",
        "a=n%10\n",
        "b=n//10\n",
        "c=b%10\n",
        "d=b//10\n",
        "#print(a,b,c,d)\n",
        "if (d**3)+(c**3)+(a**3)==n:\n",
        "    print(' number us armstoge')\n",
        "else:\n",
        "    print('number is not arm strogre')"
      ],
      "metadata": {
        "id": "2QvV8h7Q49Ku"
      },
      "execution_count": null,
      "outputs": []
    },
    {
      "cell_type": "code",
      "source": [
        "#Qus_6 = FACTROIAL\n",
        "\n",
        "number =int(input('enter a number'))\n",
        "factorial =1\n",
        "for i in range(1,number+1):\n",
        "    factorial=factorial*i\n",
        "\n",
        "print(factorial)"
      ],
      "metadata": {
        "id": "EwrI1cMK5h--"
      },
      "execution_count": null,
      "outputs": []
    },
    {
      "cell_type": "code",
      "source": [
        "import math\n",
        "print(math.factorial(5))"
      ],
      "metadata": {
        "id": "jVDgBUtw5iBl"
      },
      "execution_count": null,
      "outputs": []
    },
    {
      "cell_type": "code",
      "source": [
        "#Qus_7 = FEBONAKI SERIES\n",
        "n=int(input('enter a number'))\n",
        "a=0\n",
        "b=1\n",
        "s=0\n",
        "for i in range(1,n+1):\n",
        "    print(s,end =\" \")\n",
        "    s=a+b\n",
        "    b=a\n",
        "    a=s"
      ],
      "metadata": {
        "id": "cLkLTiD95iEN"
      },
      "execution_count": null,
      "outputs": []
    },
    {
      "cell_type": "code",
      "source": [
        "#Qus_8 = ODD NUMBER and\n",
        "number=int(input('enter a number'))\n",
        "if number%2==0:\n",
        "    print('even number')\n",
        "else:\n",
        "    print('odd number')"
      ],
      "metadata": {
        "id": "F7_94uB65iG1"
      },
      "execution_count": null,
      "outputs": []
    },
    {
      "cell_type": "code",
      "source": [
        "#Qus_10 = FIRST 25 ODD NUMBERS\n",
        "a=int(input('enter a number'))\n",
        "count=0\n",
        "for i in range(a):\n",
        "    if i%2!=0:\n",
        "        count=count+1\n",
        "        print(i,end= ' ')\n",
        "    if count==25:\n",
        "         break"
      ],
      "metadata": {
        "id": "xfp7MI895iJb"
      },
      "execution_count": null,
      "outputs": []
    },
    {
      "cell_type": "code",
      "source": [
        "#Qus_11 = PRIME NUMBER\n",
        "number =int(input('enter a number'  ))\n",
        "if number==2:\n",
        "    print('prime number')\n",
        "elif number>1:\n",
        "    for i in range(2,number):\n",
        "        if number%i==0:\n",
        "            print(i,'not prime number')\n",
        "            break\n",
        "    else :\n",
        "        print('prime')"
      ],
      "metadata": {
        "id": "LMKejmiO5iLz"
      },
      "execution_count": null,
      "outputs": []
    },
    {
      "cell_type": "code",
      "source": [
        "#Qus_12 = 100 PRIME NUMBER\n",
        "start = int (input(\"Enter the starting range:\"))\n",
        "end = int (input(\"Enter the end range: \"))\n",
        "print (\"Prime numbers in the range\", start, \"to\", end)\n",
        "for i in range(start, end+1):\n",
        "    flag = 0\n",
        "    for j in range(2, i):\n",
        "        if (i % j == 0):\n",
        "            flag = 1\n",
        "            break\n",
        "    if (flag == 0):\n",
        "        print (i, end = ' ')\n",
        "        #print(flag)"
      ],
      "metadata": {
        "id": "EV28wrU65iOt"
      },
      "execution_count": null,
      "outputs": []
    },
    {
      "cell_type": "code",
      "source": [
        "#Qus_13 = SUM OF DIGITS\n",
        "number =int(input('enter a 3 digts number'))\n",
        "last_digits=number%10\n",
        "#print(last_digits)\n",
        "staring_number=number//10\n",
        "#print(staring_number)\n",
        "second_last=staring_number%10\n",
        "#print(second_last)\n",
        "frist_number=staring_number//10\n",
        "#print(frist_number)\n",
        "sum_of_digits=(frist_number+second_last+last_digits)\n",
        "print(sum_of_digits)"
      ],
      "metadata": {
        "id": "vg-vgC535iRO"
      },
      "execution_count": null,
      "outputs": []
    },
    {
      "cell_type": "code",
      "source": [
        "#Qus_14 = REVERSE OF DIGITS\n",
        "number =int(input('enter a 3 digts number'))\n",
        "last_digits=number%10\n",
        "#print(last_digits)\n",
        "staring_number=number//10\n",
        "#print(staring_number)\n",
        "second_last=staring_number%10\n",
        "#print(second_last)\n",
        "frist_number=staring_number//10\n",
        "#print(frist_number)\n",
        "rev=(last_digits*100+second_last*10+frist_number)\n",
        "#print(rev)\n",
        "print(f\" user number {number}   'user_reverse number'  {rev}\")"
      ],
      "metadata": {
        "id": "7WPnyZmx5iUt"
      },
      "execution_count": null,
      "outputs": []
    },
    {
      "cell_type": "code",
      "source": [
        "#Qus_15 = SWAP TWO NUMBER\n",
        "#swep two variable\n",
        "a=int(input('enter a number'))\n",
        "b=int(input('enter a number'))\n",
        "tem=a\n",
        "a=b\n",
        "b=tem\n",
        "print(a)\n",
        "print(b)\n"
      ],
      "metadata": {
        "id": "iCTK-jHe49NV"
      },
      "execution_count": null,
      "outputs": []
    },
    {
      "cell_type": "code",
      "source": [
        "#Qus_16 = FIND THE LARGEST 3 NUMBERS\n",
        "Number_1=int(input('Enter a Number 1:'))\n",
        "Number_2=int(input('Enter a Number 2:'))\n",
        "Number_3=int(input('Enter a Number 3:'))\n",
        "if Number_1>Number_2 and Number_1>Number_3:\n",
        "    print(f'Number_1 is Biggest Number: {Number_1}')\n",
        "elif Number_2>Number_1 and Number_2>Number_3:\n",
        "    print(f'Number_2 is Biggest Number: {Number_2}')\n",
        "else:\n",
        "    print(f'Number_3 is Biggest Number: {Number_3}')"
      ],
      "metadata": {
        "id": "paUAbnJO49QA"
      },
      "execution_count": null,
      "outputs": []
    }
  ]
}